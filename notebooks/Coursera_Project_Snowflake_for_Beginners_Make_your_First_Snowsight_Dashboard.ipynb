{
  "nbformat": 4,
  "nbformat_minor": 0,
  "metadata": {
    "colab": {
      "provenance": [],
      "mount_file_id": "1c0nRixpdinlmtOwvCPGYltrvMHV5htZY",
      "authorship_tag": "ABX9TyMPT/1CkNLs9ye9wli9nehm",
      "include_colab_link": true
    },
    "kernelspec": {
      "name": "python3",
      "display_name": "Python 3"
    },
    "language_info": {
      "name": "python"
    }
  },
  "cells": [
    {
      "cell_type": "markdown",
      "metadata": {
        "id": "view-in-github",
        "colab_type": "text"
      },
      "source": [
        "<a href=\"https://colab.research.google.com/github/shoopy7/shoopy7/blob/main/Coursera_Project_Snowflake_for_Beginners_Make_your_First_Snowsight_Dashboard.ipynb\" target=\"_parent\"><img src=\"https://colab.research.google.com/assets/colab-badge.svg\" alt=\"Open In Colab\"/></a>"
      ]
    },
    {
      "cell_type": "markdown",
      "source": [
        "# Coursera Project:  Snowflake for Beginners: Make your First Snowsight Dashboard"
      ],
      "metadata": {
        "id": "cJo_UY015mKs"
      }
    },
    {
      "cell_type": "markdown",
      "source": [
        "Snowflake for Beginners: Make your First Snowsight Dashboard  (Instructor: Mohamed Touiti)\n",
        "\n",
        "\n",
        "\n",
        "from the Coursera Project Network\n",
        "\n",
        "https://www.coursera.org/projects/snowflake-for-beginners-make-your-first-snowsight-dashboard"
      ],
      "metadata": {
        "id": "RHwR91k51L6t"
      }
    },
    {
      "cell_type": "markdown",
      "source": [
        "Project objectives:\n",
        "\n",
        "* Learn key fundamentals of the Snowflake Data Platform including how to source\n",
        "market intelligence data from Snowflake's Marketplace.\n",
        "* Create a virtual warehouse, a database and tables and you will load data into Snowflake.\n",
        "* Cross-analyze datasets using snowflake SQL worksheets and you will create your first snowsight dashboard.  \n",
        "\n",
        "Skills:\n",
        "* Snowflake\n",
        "* SQL\n",
        "* Data management\n",
        "* Data Analysis\n",
        "* Cloud computing\n",
        "\n",
        "\n",
        "Note:  Instructions and project files available in the project located at:\n",
        "https://www.coursera.org/projects/snowflake-for-beginners-make-your-first-snowsight-dashboard\n",
        "\n",
        "\n"
      ],
      "metadata": {
        "id": "-TQO1SWO2cCX"
      }
    },
    {
      "cell_type": "code",
      "source": [
        "# get free trial account with Snowflake as described in project instructions\n",
        "# continue through project instructions to learn about the marketplace and featrues relevant for this project"
      ],
      "metadata": {
        "id": "Ng_fjtO75E0B"
      },
      "execution_count": null,
      "outputs": []
    },
    {
      "cell_type": "code",
      "source": [
        "# create warehouse script\n",
        "create WAREHOUSE IDENTIFIER('\"RAREBURGER_WH\"')\n",
        "COMMENT = '' WAREHOUSE_SIZE = 'X-Small'\n",
        "AUTO_RESUME = true AUTO_SUSPEND = 300\n",
        "ENABLE_QUERY_ACCELERATION = false WAREHOUSE_TYPE = 'STANDARD'"
      ],
      "metadata": {
        "id": "vUPo2rBs7g7u"
      },
      "execution_count": null,
      "outputs": []
    },
    {
      "cell_type": "code",
      "source": [
        "# privileges\n",
        "GRANT IMPORTED PRIVILEGES ON DATABASE IDENTIFIER('\"FREE_SAMPLE_CROSS_SHOPPING_INSIGHTS__NYC_RESTAURANTS\"')\n",
        "TO ROLE IDENTIFIER('\"PUBLIC\"')"
      ],
      "metadata": {
        "id": "jdefEh5673Dv"
      },
      "execution_count": null,
      "outputs": []
    },
    {
      "cell_type": "code",
      "source": [
        "# once data warehouse created and data sets are stored begin creating SQL database"
      ],
      "metadata": {
        "id": "c_vmMpPV57Sd"
      },
      "execution_count": null,
      "outputs": []
    },
    {
      "cell_type": "code",
      "source": [
        "# remember to suspend warehouse to save credits\n",
        "alter WAREHOUSE IDENTIFIER('\"COMPUTE_WH\"') suspend\n",
        "\n",
        "# or ('\"RAREBURGER_WH\"') depending on your settings / choice\n",
        "alter WAREHOUSE IDENTIFIER('\"RAREBURGER_WH\"') suspend"
      ],
      "metadata": {
        "id": "ACSvpAsq8Tlh"
      },
      "execution_count": null,
      "outputs": []
    },
    {
      "cell_type": "code",
      "source": [
        "# be sure to be in correct user role\n",
        "USE ROLE ACCOUNTADMIN;"
      ],
      "metadata": {
        "id": "ykrNrD_e85sV"
      },
      "execution_count": null,
      "outputs": []
    },
    {
      "cell_type": "code",
      "source": [
        "# create datebase and Monthly Revenue table\n",
        "\n",
        "USE ROLE ACCOUNTADMIN;\n",
        "CREATE DATABASE IF NOT EXISTS THERAREBURGER;\n",
        "USE DATABASE THERAREBURGER;\n",
        "USE SCHEMA PUBLIC;\n",
        "\n",
        "CREATE OR REPLACE TABLE MONTHLY_REVENUE (\n",
        "  \"LOCATION_NAME\" varchar(50),\n",
        "  \"REGION\" varchar2(50),\n",
        "  \"POSTAL_CODE\" varchar2(255),\n",
        "  \"STREET_ADDRESS\" varchar2(255) ,\n",
        "  \"RAW_TOTAL_SPEND\" FLOAT ,\n",
        "  \"RAW_NUM_TRANSACTIONS\" number,\n",
        "  \"RAW_NUM_CUSTOMERS\" number,\n",
        "  \"ONLINE_SPEND\" FLOAT ,\n",
        "  \"MEDIAN_SPEND_PER_TRANSACTION\" FLOAT ,\n",
        "  \"MEDIAN_SPEND_PER_CUSTOMER\" FLOAT\n",
        ");"
      ],
      "metadata": {
        "id": "CqJoC0Js6Pxm"
      },
      "execution_count": null,
      "outputs": []
    },
    {
      "cell_type": "code",
      "source": [
        "# explore data set\n",
        "select *\n",
        "from IDENTIFIER('\"THERAREBURGER\".\"PUBLIC\".\"MONTHLY_REVENUE\"')\n",
        "limit 100\n"
      ],
      "metadata": {
        "id": "CB0tna1Y6lvF"
      },
      "execution_count": null,
      "outputs": []
    },
    {
      "cell_type": "code",
      "source": [
        "select * from monthly_revenue;"
      ],
      "metadata": {
        "id": "2d0iNfn_-HB7"
      },
      "execution_count": null,
      "outputs": []
    },
    {
      "cell_type": "code",
      "source": [
        "# explore second data set\n",
        "select *\n",
        "from IDENTIFIER('\"FREE_SAMPLE_CROSS_SHOPPING_INSIGHTS__NYC_RESTAURANTS\".\"PUBLIC\".\"SPEND_CROSS_SHOPPING_SAMPLE\"')\n",
        "limit 100"
      ],
      "metadata": {
        "id": "NVnJE-xi628i"
      },
      "execution_count": null,
      "outputs": []
    },
    {
      "cell_type": "code",
      "source": [
        "select *\n",
        "from FREE_SAMPLE_CROSS_SHOPPING_INSIGHTS__NYC_RESTAURANTS.PUBLIC.SPEND_CROSS_SHOPPING_SAMPLE"
      ],
      "metadata": {
        "id": "D6ZSWGzU-U3w"
      },
      "execution_count": null,
      "outputs": []
    },
    {
      "cell_type": "code",
      "source": [
        "select *\n",
        "from FREE_SAMPLE_CROSS_SHOPPING_INSIGHTS__NYC_RESTAURANTS.PUBLIC.SPEND_CROSS_SHOPPING_SAMPLE\n",
        "where category_tags like '%burger%'"
      ],
      "metadata": {
        "id": "2GeyOCNE-VZL"
      },
      "execution_count": null,
      "outputs": []
    },
    {
      "cell_type": "code",
      "source": [
        "# prep for joining by listing all column names (they match from project instructions / script)"
      ],
      "metadata": {
        "id": "ZZ7fmfc_-tDL"
      },
      "execution_count": null,
      "outputs": []
    },
    {
      "cell_type": "code",
      "source": [
        "# prep for joining by listing all column names (they match from project instructions / script)\n",
        "select LOCATION_NAME,\n",
        "  REGION, POSTAL_CODE, STREET_ADDRESS, RAW_TOTAL_SPEND,\n",
        "  RAW_NUM_TRANSACTIONS, RAW_NUM_CUSTOMERS, ONLINE_SPEND,\n",
        "  MEDIAN_SPEND_PER_TRANSACTION, MEDIAN_SPEND_PER_CUSTOMER\n",
        "from FREE_SAMPLE_CROSS_SHOPPING_INSIGHTS__NYC_RESTAURANTS.PUBLIC.SPEND_CROSS_SHOPPING_SAMPLE where category_tags\n",
        "like '%Burger%';"
      ],
      "metadata": {
        "id": "JNwJ_qva-gFj"
      },
      "execution_count": null,
      "outputs": []
    },
    {
      "cell_type": "code",
      "source": [
        "# prep for joining lisitng all the col names from the monthly revenue table (verify column names / types match completely for JOIN)\n",
        "select LOCATION_NAME,\n",
        "  REGION, POSTAL_CODE, STREET_ADDRESS, RAW_TOTAL_SPEND,\n",
        "  RAW_NUM_TRANSACTIONS, RAW_NUM_CUSTOMERS, ONLINE_SPEND,\n",
        "  MEDIAN_SPEND_PER_TRANSACTION, MEDIAN_SPEND_PER_CUSTOMER\n",
        "from monthly_revenue"
      ],
      "metadata": {
        "id": "DW8ytDaI-5L4"
      },
      "execution_count": null,
      "outputs": []
    },
    {
      "cell_type": "code",
      "source": [
        "# join second date set and continue exploration of merged sets\n",
        "select LOCATION_NAME, REGION, POSTAL_CODE, STREET_ADDRESS, RAW_TOTAL_SPEND, RAW_NUM_TRANSACTIONS, RAW_NUM_CUSTOMERS, ONLINE_SPEND, MEDIAN_SPEND_PER_TRANSACTION, MEDIAN_SPEND_PER_CUSTOMER\n",
        "from monthly_revenue\n",
        "\n",
        "UNION\n",
        "\n",
        "select LOCATION_NAME, REGION, POSTAL_CODE, STREET_ADDRESS, RAW_TOTAL_SPEND, RAW_NUM_TRANSACTIONS, RAW_NUM_CUSTOMERS, ONLINE_SPEND, MEDIAN_SPEND_PER_TRANSACTION, MEDIAN_SPEND_PER_CUSTOMER\n",
        "from FREE_SAMPLE_CROSS_SHOPPING_INSIGHTS__NYC_RESTAURANTS.PUBLIC.SPEND_CROSS_SHOPPING_SAMPLE where category_tags like '%Burger%';"
      ],
      "metadata": {
        "id": "CkFLcNb46oTK"
      },
      "execution_count": null,
      "outputs": []
    },
    {
      "cell_type": "code",
      "source": [
        "# find total spending by location\n",
        "\n",
        "select LOCATION_NAME, REGION, POSTAL_CODE, RAW_TOTAL_SPEND from monthly_revenue\n",
        "UNION\n",
        "select LOCATION_NAME, REGION, POSTAL_CODE, RAW_TOTAL_SPEND from FREE_SAMPLE_CROSS_SHOPPING_INSIGHTS__NYC_RESTAURANTS.PUBLIC.SPEND_CROSS_SHOPPING_SAMPLE where category_tags like '%Burger%';"
      ],
      "metadata": {
        "id": "c9kqrvMk6tc5"
      },
      "execution_count": null,
      "outputs": []
    },
    {
      "cell_type": "markdown",
      "source": [
        "Create dashboard \"Total Spending by Location\""
      ],
      "metadata": {
        "id": "rjkTKE2l_Z1A"
      }
    },
    {
      "cell_type": "code",
      "source": [
        "# find number of customers by location\n",
        "select LOCATION_NAME, REGION, POSTAL_CODE, RAW_NUM_CUSTOMERS from monthly_revenue\n",
        "UNION\n",
        "select LOCATION_NAME, REGION, POSTAL_CODE, RAW_NUM_CUSTOMERS from FREE_SAMPLE_CROSS_SHOPPING_INSIGHTS__NYC_RESTAURANTS.PUBLIC.SPEND_CROSS_SHOPPING_SAMPLE where category_tags like '%Burger%';"
      ],
      "metadata": {
        "id": "VwQOdWRv6wJV"
      },
      "execution_count": null,
      "outputs": []
    },
    {
      "cell_type": "markdown",
      "source": [
        "Create dashboard \"Number of Customers by Location\""
      ],
      "metadata": {
        "id": "rJIpRoVW_oXv"
      }
    },
    {
      "cell_type": "code",
      "source": [
        "# find online spending by location\n",
        "select LOCATION_NAME, REGION, POSTAL_CODE, ONLINE_SPEND from monthly_revenue\n",
        "UNION\n",
        "select LOCATION_NAME, REGION, POSTAL_CODE, ONLINE_SPEND from FREE_SAMPLE_CROSS_SHOPPING_INSIGHTS__NYC_RESTAURANTS.PUBLIC.SPEND_CROSS_SHOPPING_SAMPLE where category_tags like '%Burger%';"
      ],
      "metadata": {
        "id": "o4ttxDnk6xGP"
      },
      "execution_count": null,
      "outputs": []
    },
    {
      "cell_type": "markdown",
      "source": [
        "Create dashboard \"Online Spending by Location\""
      ],
      "metadata": {
        "id": "OTay3Rhl_sb_"
      }
    },
    {
      "cell_type": "markdown",
      "source": [
        "Make observations from dashboards\n",
        "Develop more questions to explore"
      ],
      "metadata": {
        "id": "W88F1G1s_4Hp"
      }
    },
    {
      "cell_type": "code",
      "source": [
        "# find median spending per transaction by 3 specified locations\n",
        "select LOCATION_NAME, REGION, POSTAL_CODE, MEDIAN_SPEND_PER_TRANSACTION from monthly_revenue where postal_code IN ('10036','10019','10003')\n",
        "UNION\n",
        "select LOCATION_NAME, REGION, POSTAL_CODE, MEDIAN_SPEND_PER_TRANSACTION from FREE_SAMPLE_CROSS_SHOPPING_INSIGHTS__NYC_RESTAURANTS.PUBLIC.SPEND_CROSS_SHOPPING_SAMPLE where category_tags like '%Burger%' AND postal_code IN ('10036','10019','10003')"
      ],
      "metadata": {
        "id": "Rtu9DB5BAA78"
      },
      "execution_count": null,
      "outputs": []
    },
    {
      "cell_type": "markdown",
      "source": [
        "Create dashboard HeatMap \"Median Spending per Transaction by 3 Locations of Interest\""
      ],
      "metadata": {
        "id": "3MDeG_krAGzM"
      }
    },
    {
      "cell_type": "code",
      "source": [
        "import os\n",
        "import matplotlib.pyplot as plt"
      ],
      "metadata": {
        "id": "Ll017P6fD1Eu"
      },
      "execution_count": 3,
      "outputs": []
    },
    {
      "cell_type": "code",
      "source": [
        "from google.colab import drive\n",
        "drive.mount('/content/drive')"
      ],
      "metadata": {
        "colab": {
          "base_uri": "https://localhost:8080/"
        },
        "id": "4mPaXqfED3mW",
        "outputId": "b260b66c-9e7b-4bc6-b2d4-eeeb2e786917"
      },
      "execution_count": 2,
      "outputs": [
        {
          "output_type": "stream",
          "name": "stdout",
          "text": [
            "Drive already mounted at /content/drive; to attempt to forcibly remount, call drive.mount(\"/content/drive\", force_remount=True).\n"
          ]
        }
      ]
    },
    {
      "cell_type": "code",
      "source": [
        "img = plt.imread('/content/drive/MyDrive/Colab Notebooks/Coursera/Google projects/snowflake for beginners end to end first snowsight dashboard/to share 4 dashboards created in snowflake project 20250216 (1).png')"
      ],
      "metadata": {
        "id": "W9R_AoErD8YE"
      },
      "execution_count": 6,
      "outputs": []
    },
    {
      "cell_type": "code",
      "source": [
        "plt.imshow(img)"
      ],
      "metadata": {
        "colab": {
          "base_uri": "https://localhost:8080/",
          "height": 282
        },
        "id": "O73HQjWZD-Mw",
        "outputId": "63921132-24e6-4a42-b306-89b61a1bee27"
      },
      "execution_count": 7,
      "outputs": [
        {
          "output_type": "execute_result",
          "data": {
            "text/plain": [
              "<matplotlib.image.AxesImage at 0x7ebd62565610>"
            ]
          },
          "metadata": {},
          "execution_count": 7
        },
        {
          "output_type": "display_data",
          "data": {
            "text/plain": [
              "<Figure size 640x480 with 1 Axes>"
            ],
            "image/png": "[encoded data removed]"
          },
          "metadata": {}
        }
      ]
    }
  ]
}
